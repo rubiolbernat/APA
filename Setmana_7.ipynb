{
 "cells": [
  {
   "cell_type": "markdown",
   "metadata": {},
   "source": [
    "# Setmana 6\n",
    "**Alumne: Bernat Rubiol**"
   ]
  },
  {
   "cell_type": "markdown",
   "metadata": {},
   "source": [
    "```prolog\n",
    "EsFill(ferran, sergi).\n",
    "EsFill(laura, sergi).\n",
    "\n",
    "EsPare(X, Y) :- EsFill(Y, X).\n",
    "\n",
    "EsGerma(X, Y) :- \n",
    "    EsFill(X, P),\n",
    "    EsFill(Y, P),\n",
    "    X \\= Y.\n",
    "\n",
    "```"
   ]
  },
  {
   "cell_type": "markdown",
   "metadata": {},
   "source": [
    "**El gran algorisme de python:**\n",
    "\n",
    "## Condició\n",
    "expressió for element in contenidor if condició\n",
    "\n",
    "\\- ``true`` posa la expressió de l'element, ``false`` no\n",
    "\n",
    "## Expressio generadora\n",
    "\n",
    "(expressió for element in contenidor if condició)\n",
    "\n",
    "\\- Proporciona iterador"
   ]
  },
  {
   "cell_type": "code",
   "execution_count": 12,
   "metadata": {},
   "outputs": [
    {
     "data": {
      "text/plain": [
       "True"
      ]
     },
     "execution_count": 12,
     "metadata": {},
     "output_type": "execute_result"
    }
   ],
   "source": [
    "from Entrega_1 import primos as pr\n",
    "\n",
    "pr.esprimer(31)\n"
   ]
  },
  {
   "cell_type": "code",
   "execution_count": 13,
   "metadata": {},
   "outputs": [
    {
     "ename": "KeyboardInterrupt",
     "evalue": "",
     "output_type": "error",
     "traceback": [
      "\u001b[1;31m---------------------------------------------------------------------------\u001b[0m",
      "\u001b[1;31mKeyboardInterrupt\u001b[0m                         Traceback (most recent call last)",
      "Cell \u001b[1;32mIn[13], line 2\u001b[0m\n\u001b[0;32m      1\u001b[0m \u001b[38;5;28;01mfrom\u001b[39;00m\u001b[38;5;250m \u001b[39m\u001b[38;5;21;01mitertools\u001b[39;00m\u001b[38;5;250m \u001b[39m\u001b[38;5;28;01mimport\u001b[39;00m count\n\u001b[1;32m----> 2\u001b[0m primers\u001b[38;5;241m=\u001b[39m \u001b[43m{\u001b[49m\u001b[43mnumero\u001b[49m\u001b[43m \u001b[49m\u001b[38;5;28;43;01mfor\u001b[39;49;00m\u001b[43m \u001b[49m\u001b[43mnumero\u001b[49m\u001b[43m \u001b[49m\u001b[38;5;129;43;01min\u001b[39;49;00m\u001b[43m \u001b[49m\u001b[38;5;28;43mrange\u001b[39;49m\u001b[43m(\u001b[49m\u001b[38;5;241;43m0\u001b[39;49m\u001b[43m,\u001b[49m\u001b[38;5;241;43m99999999\u001b[39;49m\u001b[43m)\u001b[49m\u001b[38;5;28;43;01mif\u001b[39;49;00m\u001b[43m \u001b[49m\u001b[43mpr\u001b[49m\u001b[38;5;241;43m.\u001b[39;49m\u001b[43mesprimer\u001b[49m\u001b[43m(\u001b[49m\u001b[43mnumero\u001b[49m\u001b[43m)\u001b[49m\u001b[43m \u001b[49m\u001b[43m}\u001b[49m\n",
      "Cell \u001b[1;32mIn[13], line 2\u001b[0m, in \u001b[0;36m<setcomp>\u001b[1;34m(.0)\u001b[0m\n\u001b[0;32m      1\u001b[0m \u001b[38;5;28;01mfrom\u001b[39;00m\u001b[38;5;250m \u001b[39m\u001b[38;5;21;01mitertools\u001b[39;00m\u001b[38;5;250m \u001b[39m\u001b[38;5;28;01mimport\u001b[39;00m count\n\u001b[1;32m----> 2\u001b[0m primers\u001b[38;5;241m=\u001b[39m {numero \u001b[38;5;28;01mfor\u001b[39;00m numero \u001b[38;5;129;01min\u001b[39;00m \u001b[38;5;28mrange\u001b[39m(\u001b[38;5;241m0\u001b[39m,\u001b[38;5;241m99999999\u001b[39m)\u001b[38;5;28;01mif\u001b[39;00m \u001b[43mpr\u001b[49m\u001b[38;5;241;43m.\u001b[39;49m\u001b[43mesprimer\u001b[49m\u001b[43m(\u001b[49m\u001b[43mnumero\u001b[49m\u001b[43m)\u001b[49m }\n",
      "File \u001b[1;32mg:\\.shortcut-targets-by-id\\1-2VRau0EiqR4tsgGBxoi-7hCAGOO4IGe\\UPC\\APA\\APA\\Entrega_1\\primos.py:41\u001b[0m, in \u001b[0;36mesprimer\u001b[1;34m(num)\u001b[0m\n\u001b[0;32m     30\u001b[0m \u001b[38;5;250m\u001b[39m\u001b[38;5;124;03m\"\"\"\u001b[39;00m\n\u001b[0;32m     31\u001b[0m \u001b[38;5;124;03mCalcula si num entrant es primer o no\u001b[39;00m\n\u001b[0;32m     32\u001b[0m \u001b[38;5;124;03m\u001b[39;00m\n\u001b[1;32m   (...)\u001b[0m\n\u001b[0;32m     38\u001b[0m \n\u001b[0;32m     39\u001b[0m \u001b[38;5;124;03m\"\"\"\u001b[39;00m\n\u001b[0;32m     40\u001b[0m \u001b[38;5;28;01mfor\u001b[39;00m test \u001b[38;5;129;01min\u001b[39;00m \u001b[38;5;28mrange\u001b[39m(\u001b[38;5;241m2\u001b[39m, num):\n\u001b[1;32m---> 41\u001b[0m     \u001b[38;5;28;01mif\u001b[39;00m num\u001b[38;5;241m%\u001b[39mtest \u001b[38;5;241m==\u001b[39m \u001b[38;5;241m0\u001b[39m:\n\u001b[0;32m     42\u001b[0m         \u001b[38;5;28;01mreturn\u001b[39;00m \u001b[38;5;28;01mFalse\u001b[39;00m\n\u001b[0;32m     44\u001b[0m \u001b[38;5;28;01mreturn\u001b[39;00m \u001b[38;5;28;01mTrue\u001b[39;00m\n",
      "\u001b[1;31mKeyboardInterrupt\u001b[0m: "
     ]
    }
   ],
   "source": [
    "from itertools import count\n",
    "primers= {numero for numero in range(0,99999999)if pr.esprimer(numero) }\n",
    "\n",
    "next(primers)"
   ]
  },
  {
   "cell_type": "code",
   "execution_count": null,
   "metadata": {},
   "outputs": [],
   "source": [
    "primers2 = {numero for numero in count() }"
   ]
  },
  {
   "cell_type": "markdown",
   "metadata": {},
   "source": [
    "**Funcions anònimes**\n",
    "\n",
    "lambda arguments: expressio\n",
    "\n",
    "*(expressió simple)\n",
    "\n",
    "**Funcio d'ordre superior**\n",
    "\n",
    "- pren com argument una altra funció o com a valor de sortida\n",
    "\n",
    "**Funció MAP**\n",
    "\n",
    "- Retorna en forma d'iterador, funciona amb els elemtns dels iteradors"
   ]
  },
  {
   "cell_type": "code",
   "execution_count": null,
   "metadata": {},
   "outputs": [],
   "source": [
    "noms = ['Montse', 'Bernat', 'Ramón']\n",
    "cognoms = ['Cuevas', 'Rubiol', 'Abad']\n",
    "dni = [12334, 14324, 234234]\n",
    "\n",
    "alumnes = map(print, noms, cognoms, dni) \n",
    "# 1r argument: Funció, 2n en endevant elements a iterar"
   ]
  },
  {
   "cell_type": "code",
   "execution_count": null,
   "metadata": {},
   "outputs": [
    {
     "name": "stdout",
     "output_type": "stream",
     "text": [
      "Bernat Rubiol 14324\n"
     ]
    }
   ],
   "source": [
    "next(alumnes)"
   ]
  },
  {
   "cell_type": "code",
   "execution_count": null,
   "metadata": {},
   "outputs": [],
   "source": [
    "numeros= ['zero','un','dos','tres', 'quatre']\n",
    "\n",
    "#map\n",
    "NUMEROS = map(lambda s: s.upper(), numeros)\n",
    "#lambda es una funcio anònima\n",
    "\n",
    "#comprenssió\n",
    "NUMEROS2 = {s.upper() for s in numeros if len(s)>3}"
   ]
  },
  {
   "cell_type": "code",
   "execution_count": 26,
   "metadata": {},
   "outputs": [
    {
     "name": "stdout",
     "output_type": "stream",
     "text": [
      "ZERO\n",
      "UN\n",
      "DOS\n",
      "TRES\n",
      "QUATRE\n"
     ]
    }
   ],
   "source": [
    "for NUMERO in NUMEROS: print(NUMERO)"
   ]
  },
  {
   "cell_type": "markdown",
   "metadata": {},
   "source": [
    "filter (funcio, iterables...)\n",
    "la funcio prendra com a sortida T o F\n",
    "si T, es mostra en pantalla\n",
    "si F no es mostra"
   ]
  },
  {
   "cell_type": "code",
   "execution_count": null,
   "metadata": {},
   "outputs": [
    {
     "data": {
      "text/plain": [
       "0"
      ]
     },
     "execution_count": 32,
     "metadata": {},
     "output_type": "execute_result"
    }
   ],
   "source": [
    "#aqui no podem \n",
    "quintos = filter(lambda x: not x%5, range(40) )\n",
    "next(quintos)"
   ]
  },
  {
   "cell_type": "code",
   "execution_count": 34,
   "metadata": {},
   "outputs": [
    {
     "name": "stdout",
     "output_type": "stream",
     "text": [
      "5\n",
      "10\n",
      "15\n",
      "20\n",
      "25\n",
      "30\n",
      "35\n"
     ]
    }
   ],
   "source": [
    "for numero in quintos:\n",
    "    print(numero)"
   ]
  },
  {
   "cell_type": "code",
   "execution_count": 35,
   "metadata": {},
   "outputs": [
    {
     "name": "stdout",
     "output_type": "stream",
     "text": [
      "0\n",
      "5\n",
      "10\n",
      "15\n",
      "20\n",
      "25\n",
      "30\n",
      "35\n"
     ]
    }
   ],
   "source": [
    "# funcio generadora, es mes potent que filter i map perque perque les convina\n",
    "quintos = (x for x in range(40) if not x%5)\n",
    "\n",
    "for numero in quintos:\n",
    "    print(numero)"
   ]
  },
  {
   "cell_type": "code",
   "execution_count": 36,
   "metadata": {},
   "outputs": [
    {
     "name": "stdout",
     "output_type": "stream",
     "text": [
      "Help on built-in function reduce in module _functools:\n",
      "\n",
      "reduce(...)\n",
      "    reduce(function, iterable[, initial]) -> value\n",
      "    \n",
      "    Apply a function of two arguments cumulatively to the items of a sequence\n",
      "    or iterable, from left to right, so as to reduce the iterable to a single\n",
      "    value.  For example, reduce(lambda x, y: x+y, [1, 2, 3, 4, 5]) calculates\n",
      "    ((((1+2)+3)+4)+5).  If initial is present, it is placed before the items\n",
      "    of the iterable in the calculation, and serves as a default when the\n",
      "    iterable is empty.\n",
      "\n"
     ]
    }
   ],
   "source": [
    "from functools import reduce\n",
    "# reduce aplica una funcio iterativament als elements de la funcio\n",
    "help(reduce)"
   ]
  },
  {
   "cell_type": "code",
   "execution_count": 39,
   "metadata": {},
   "outputs": [
    {
     "data": {
      "text/plain": [
       "3628800"
      ]
     },
     "execution_count": 39,
     "metadata": {},
     "output_type": "execute_result"
    }
   ],
   "source": [
    "def factorial(n):\n",
    "    return reduce(lambda x,y: x*y, range(2,n+1))\n",
    "\n",
    "factorial(10)"
   ]
  },
  {
   "cell_type": "code",
   "execution_count": 43,
   "metadata": {},
   "outputs": [
    {
     "name": "stdout",
     "output_type": "stream",
     "text": [
      "2! = 2\n",
      "3! = 6\n",
      "4! = 24\n",
      "5! = 120\n",
      "6! = 720\n",
      "7! = 5040\n",
      "8! = 40320\n",
      "9! = 362880\n"
     ]
    }
   ],
   "source": [
    "for n in range(2,10):\n",
    "    print(f'{n}! = {factorial(n)}')"
   ]
  },
  {
   "cell_type": "code",
   "execution_count": null,
   "metadata": {},
   "outputs": [
    {
     "name": "stdout",
     "output_type": "stream",
     "text": [
      "Help on built-in function sorted in module builtins:\n",
      "\n",
      "sorted(iterable, /, *, key=None, reverse=False)\n",
      "    Return a new list containing all items from the iterable in ascending order.\n",
      "    \n",
      "    A custom key function can be supplied to customize the sort order, and the\n",
      "    reverse flag can be set to request the result in descending order.\n",
      "\n"
     ]
    }
   ],
   "source": [
    "# per ordenar\n",
    "help(sorted)"
   ]
  },
  {
   "cell_type": "code",
   "execution_count": 46,
   "metadata": {},
   "outputs": [
    {
     "data": {
      "text/plain": [
       "['cinc', 'dos', 'quatre', 'sis', 'tres', 'u']"
      ]
     },
     "execution_count": 46,
     "metadata": {},
     "output_type": "execute_result"
    }
   ],
   "source": [
    "numeros = ['u', 'dos', 'tres', 'quatre','cinc','sis']\n",
    "sorted(numeros)"
   ]
  },
  {
   "cell_type": "code",
   "execution_count": null,
   "metadata": {},
   "outputs": [
    {
     "data": {
      "text/plain": [
       "['cinc', 'quatre', 'tres', 'sis', 'dos', 'u']"
      ]
     },
     "execution_count": 48,
     "metadata": {},
     "output_type": "execute_result"
    }
   ],
   "source": [
    "# ordena alfabeticament pero per la lletra del final\n",
    "sorted(numeros, key=lambda s: s[::-1])"
   ]
  },
  {
   "cell_type": "code",
   "execution_count": 81,
   "metadata": {},
   "outputs": [
    {
     "name": "stdout",
     "output_type": "stream",
     "text": [
      "[Bernat Rubiol: 8, Albert Lloret: 7, Mark Bonete: 6]\n"
     ]
    }
   ],
   "source": [
    "class Alumne:\n",
    "    def __init__(self, nom, cognom, nota):\n",
    "        self.nom=nom\n",
    "        self.cognom = cognom\n",
    "        self.nota = nota\n",
    "    \n",
    "    def __str__(self):\n",
    "        return f'{self.nom} {self.cognom}: {self.nota}'\n",
    "    \n",
    "    def __call__(self,nota):\n",
    "        self.nota = nota\n",
    "    \n",
    "    __repr__ = __str__\n",
    "    \n",
    "alumnes = [Alumne('Bernat', 'Rubiol',8), Alumne('Albert', 'Lloret',7), Alumne('Mark', 'Bonete',6)]\n",
    "\n",
    "print(alumnes)"
   ]
  },
  {
   "cell_type": "code",
   "execution_count": 82,
   "metadata": {},
   "outputs": [
    {
     "data": {
      "text/plain": [
       "[Mark Bonete: 6, Albert Lloret: 7, Bernat Rubiol: 8]"
      ]
     },
     "execution_count": 82,
     "metadata": {},
     "output_type": "execute_result"
    }
   ],
   "source": [
    "sorted(alumnes, key=lambda x: x.nota)"
   ]
  },
  {
   "cell_type": "code",
   "execution_count": 84,
   "metadata": {},
   "outputs": [
    {
     "data": {
      "text/plain": [
       "7"
      ]
     },
     "execution_count": 84,
     "metadata": {},
     "output_type": "execute_result"
    }
   ],
   "source": [
    "alumnes[1]\n",
    "alumnes[1].__getattribute__(\"nota\")"
   ]
  },
  {
   "cell_type": "code",
   "execution_count": 88,
   "metadata": {},
   "outputs": [
    {
     "data": {
      "text/plain": [
       "[Mark Bonete: 6, Albert Lloret: 7, Bernat Rubiol: 8]"
      ]
     },
     "execution_count": 88,
     "metadata": {},
     "output_type": "execute_result"
    }
   ],
   "source": [
    "def ordenaAtribute(objecte, clau):\n",
    "    return sorted(objecte, key= lambda objecte: objecte.__getattribute__(clau))\n",
    "\n",
    "ordenaAtribute(alumnes, \"nota\")"
   ]
  },
  {
   "cell_type": "markdown",
   "metadata": {},
   "source": [
    "**Decoració de funcions**\n",
    "\n",
    "\\- Afegir un emboltori a la funcio i que la funcio retorni el seu resultat normal + l'emboltori\n",
    "\n",
    "```py\n",
    "def decora(funcio):\n",
    "    def embolcall(*args, **dicc):\n",
    "        return funcio(*args, **dicc)\n",
    "    return embolcall\n",
    "```\n",
    "Aquesta funcio ens permet decorar qualsevol funcio:\n",
    "\n",
    "Pot servir per a:\n",
    " - Guardar en un diccionari valors comprovats amb anterioritat per a millorar eficiència\n",
    " - "
   ]
  },
  {
   "cell_type": "code",
   "execution_count": 100,
   "metadata": {},
   "outputs": [],
   "source": [
    "def decora(funcio):\n",
    "    def embolcall(*args, **dicc):\n",
    "        print('Pero que listo que soy:')\n",
    "        return funcio(*args, **dicc)\n",
    "    return embolcall"
   ]
  },
  {
   "cell_type": "code",
   "execution_count": 101,
   "metadata": {},
   "outputs": [
    {
     "name": "stdout",
     "output_type": "stream",
     "text": [
      "Pero que listo que soy:\n",
      "1 2 3\n"
     ]
    }
   ],
   "source": [
    "printa=decora(print)\n",
    "printa(1,2,3)"
   ]
  },
  {
   "cell_type": "code",
   "execution_count": 4,
   "metadata": {},
   "outputs": [],
   "source": [
    "# funcio decorada per a recordar nums primers "
   ]
  },
  {
   "cell_type": "markdown",
   "metadata": {},
   "source": [
    "Exàmen:\n",
    "\n",
    "- la funcio funcio te largument posicio o clau fes-la\n",
    "- fes cadena f\n",
    "- comprensió\n",
    "- matplotlib\n",
    "- funcio num primers o parells o multiples de 3\n",
    "- generadors, iteradors...\n",
    "- sorted\n",
    "- mètodes màgics"
   ]
  }
 ],
 "metadata": {
  "kernelspec": {
   "display_name": "Python 3",
   "language": "python",
   "name": "python3"
  },
  "language_info": {
   "codemirror_mode": {
    "name": "ipython",
    "version": 3
   },
   "file_extension": ".py",
   "mimetype": "text/x-python",
   "name": "python",
   "nbconvert_exporter": "python",
   "pygments_lexer": "ipython3",
   "version": "3.11.9"
  }
 },
 "nbformat": 4,
 "nbformat_minor": 2
}
