{
 "cells": [
  {
   "cell_type": "markdown",
   "metadata": {},
   "source": [
    "# Setmana 4\n",
    "*Bernat Rubiol*\n",
    "\n",
    "## Github"
   ]
  },
  {
   "cell_type": "markdown",
   "metadata": {},
   "source": [
    "Powershell\n",
    "```sh\n",
    "mkdir APA\n",
    "cd APA\n",
    "\n",
    "git clone https://github.com/albino-pav/APA-T2.git\n",
    "cd apa-t2\n",
    "git status\n",
    "code . # per editar codi\n",
    "\n",
    "git add . # afegeix repositori actual\n",
    "git commit\n",
    "\n",
    "git config core.editor nano\n",
    "\n",
    "git config user.email bernat.rubiol@estudiantat.upc.edu\n",
    "git config user.name \"Bernat Rubiol\"\n",
    "git config\n",
    "\n",
    "git push\n",
    "```"
   ]
  },
  {
   "cell_type": "markdown",
   "metadata": {},
   "source": [
    "Per a fer push necessitarem un token de github\n",
    "github.com/settings/tokens/new"
   ]
  },
  {
   "cell_type": "markdown",
   "metadata": {},
   "source": [
    "### Copiar repo\n",
    "\n",
    "```sh\n",
    "git clone https://github.com/albino-pav/APA-T2.git\n",
    "```\n",
    "\n",
    "### Actualitzar repo\n",
    "\n",
    "```sh\n",
    "git pull \n",
    "```"
   ]
  }
 ],
 "metadata": {
  "kernelspec": {
   "display_name": "Python 3",
   "language": "python",
   "name": "python3"
  },
  "language_info": {
   "codemirror_mode": {
    "name": "ipython",
    "version": 3
   },
   "file_extension": ".py",
   "mimetype": "text/x-python",
   "name": "python",
   "nbconvert_exporter": "python",
   "pygments_lexer": "ipython3",
   "version": "3.12.4"
  }
 },
 "nbformat": 4,
 "nbformat_minor": 2
}
