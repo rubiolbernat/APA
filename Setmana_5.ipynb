{
 "cells": [
  {
   "cell_type": "markdown",
   "metadata": {
    "id": "ei1JESvyrhNV"
   },
   "source": [
    "# Setmana 5 APA"
   ]
  },
  {
   "cell_type": "markdown",
   "metadata": {},
   "source": [
    "Pas de funcions"
   ]
  },
  {
   "cell_type": "code",
   "execution_count": null,
   "metadata": {},
   "outputs": [],
   "source": [
    "llista = [1, 2, 3, 4, 5]\n",
    "\n",
    "def function(num1, num2):\n",
    "        "
   ]
  },
  {
   "cell_type": "markdown",
   "metadata": {},
   "source": [
    "Arguments, poden ser posicionals, els quals els hem de cridar per ordre \n",
    "```py def function(num1, num2) ```\n",
    "i el cridem \n",
    "```py function(1,2)```, també els podem cridar desordenats ```py function(num2=2,num1=1)```\n",
    "\n",
    "També podem forçar a que sigui per clau i no posicional posant un '*' i a partir de l'asterisc seràn amb clau i els que hi hagi abans seràn posicionals ```py def function(num1, /,num2, *, num3) ``` \n",
    "\n",
    "**-El '/' força argument posicional**\n",
    "\n",
    "**-El '*' força argument per clau**"
   ]
  },
  {
   "cell_type": "code",
   "execution_count": null,
   "metadata": {},
   "outputs": [
    {
     "name": "stdout",
     "output_type": "stream",
     "text": [
      "1rtre2rtre3rtre4rtre5\n"
     ]
    }
   ],
   "source": [
    "print(1,2,3,4,5, sep='\\t')"
   ]
  },
  {
   "cell_type": "code",
   "execution_count": 16,
   "metadata": {},
   "outputs": [
    {
     "name": "stdout",
     "output_type": "stream",
     "text": [
      "(1, 2, 3)\n",
      "Argument FI: 54\n",
      "1\n",
      "2\n",
      "3\n"
     ]
    }
   ],
   "source": [
    "def funcio2(*elements, fi):\n",
    "    print(elements)\n",
    "    print(f'Argument FI: {fi}')\n",
    "    for element in elements:\n",
    "        print(element)\n",
    "        \n",
    "funcio2(1,2,3, fi=54)"
   ]
  },
  {
   "cell_type": "code",
   "execution_count": 22,
   "metadata": {},
   "outputs": [
    {
     "name": "stdout",
     "output_type": "stream",
     "text": [
      "('U', 'DOS', 'TRES', 'QUATRE', 'CINC')\n",
      "Argument FI: 54\n",
      "U\n",
      "DOS\n",
      "TRES\n",
      "QUATRE\n",
      "CINC\n"
     ]
    }
   ],
   "source": [
    "diccionari ={'U': 1, 'DOS': 2, 'TRES': 3, 'QUATRE': 4, 'CINC': 5}\n",
    "funcio2(*diccionari.keys(), fi=54)"
   ]
  },
  {
   "cell_type": "code",
   "execution_count": null,
   "metadata": {},
   "outputs": [],
   "source": [
    "def mcm(nums[]):\n",
    "\tif (len(nums) == 1):\n",
    "        return nums[0]"
   ]
  }
 ],
 "metadata": {
  "colab": {
   "authorship_tag": "ABX9TyNOLIaLmOBO5Aqr3BsAaeup",
   "provenance": []
  },
  "kernelspec": {
   "display_name": "Python 3",
   "name": "python3"
  },
  "language_info": {
   "codemirror_mode": {
    "name": "ipython",
    "version": 3
   },
   "file_extension": ".py",
   "mimetype": "text/x-python",
   "name": "python",
   "nbconvert_exporter": "python",
   "pygments_lexer": "ipython3",
   "version": "3.11.9"
  }
 },
 "nbformat": 4,
 "nbformat_minor": 0
}
