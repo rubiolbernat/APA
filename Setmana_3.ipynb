{
 "cells": [
  {
   "cell_type": "markdown",
   "metadata": {
    "id": "5tDoLv-yVITq"
   },
   "source": [
    "# Setmana 3\n",
    "5/3/2025"
   ]
  },
  {
   "cell_type": "code",
   "execution_count": 2,
   "metadata": {},
   "outputs": [
    {
     "name": "stdout",
     "output_type": "stream",
     "text": [
      "blue\n"
     ]
    }
   ],
   "source": [
    "colors ={\"red\",\"green\",\"blue\",\"yellow\"}\n",
    "\n",
    "iterator = iter(colors)\n",
    "next(iterator)\n",
    "print(next(iterator))"
   ]
  },
  {
   "cell_type": "code",
   "execution_count": 3,
   "metadata": {},
   "outputs": [
    {
     "data": {
      "text/plain": [
       "2"
      ]
     },
     "execution_count": 3,
     "metadata": {},
     "output_type": "execute_result"
    }
   ],
   "source": [
    "rang=range(1,5) #serveix per a crear una seq de nums pot tenir 1,2,3 arguments\n",
    "rang[1]"
   ]
  },
  {
   "cell_type": "code",
   "execution_count": 4,
   "metadata": {},
   "outputs": [
    {
     "data": {
      "text/plain": [
       "[1, 2, 3, 4]"
      ]
     },
     "execution_count": 4,
     "metadata": {},
     "output_type": "execute_result"
    }
   ],
   "source": [
    "list(rang) #converteix a llista"
   ]
  },
  {
   "cell_type": "code",
   "execution_count": 5,
   "metadata": {},
   "outputs": [
    {
     "name": "stderr",
     "output_type": "stream",
     "text": [
      "\n",
      "[notice] A new release of pip is available: 24.0 -> 25.0.1\n",
      "[notice] To update, run: C:\\Users\\rubio\\AppData\\Local\\Microsoft\\WindowsApps\\PythonSoftwareFoundation.Python.3.11_qbz5n2kfra8p0\\python.exe -m pip install --upgrade pip\n"
     ]
    },
    {
     "name": "stdout",
     "output_type": "stream",
     "text": [
      "Requirement already satisfied: numpy in c:\\users\\rubio\\appdata\\local\\packages\\pythonsoftwarefoundation.python.3.11_qbz5n2kfra8p0\\localcache\\local-packages\\python311\\site-packages (2.2.3)\n"
     ]
    }
   ],
   "source": [
    "!pip install numpy\n",
    "import numpy as np\n",
    "\n",
    "tensor = np.array([[1, 2, 3, 4, 5], [6, 7, 8, 9, 10], [11, 12, 13, 14, 15]])"
   ]
  },
  {
   "cell_type": "code",
   "execution_count": 6,
   "metadata": {},
   "outputs": [
    {
     "name": "stdout",
     "output_type": "stream",
     "text": [
      "El numero 20 es parell\n"
     ]
    }
   ],
   "source": [
    "numero = 20\n",
    "if numero %2==0:\n",
    "    print(f\"El numero {numero} es parell\")\n",
    "else:\n",
    "    print(f\"El numero {numero} es senar\")"
   ]
  },
  {
   "cell_type": "code",
   "execution_count": 7,
   "metadata": {},
   "outputs": [
    {
     "name": "stdout",
     "output_type": "stream",
     "text": [
      "Primer cas\n"
     ]
    }
   ],
   "source": [
    "case = \"A\"\n",
    "if case == \"A\":\n",
    "    print(\"Primer cas\") \n",
    "elif case == \"B\":\n",
    "    print(\"Segon cas\")\n",
    "elif case == \"C\":\n",
    "    print(\"Tercer cas\")"
   ]
  },
  {
   "cell_type": "code",
   "execution_count": 8,
   "metadata": {},
   "outputs": [
    {
     "name": "stdout",
     "output_type": "stream",
     "text": [
      "10\n"
     ]
    }
   ],
   "source": [
    "#operador ternari\n",
    "numero = 10\n",
    "numero-3 if numero > 0 else -numero\n",
    "print(numero)"
   ]
  },
  {
   "cell_type": "markdown",
   "metadata": {},
   "source": [
    "## Bucles"
   ]
  },
  {
   "cell_type": "code",
   "execution_count": 9,
   "metadata": {},
   "outputs": [
    {
     "name": "stdout",
     "output_type": "stream",
     "text": [
      "10\n",
      "9\n",
      "8\n",
      "7\n",
      "6\n",
      "5\n",
      "4\n",
      "3\n",
      "2\n",
      "1\n"
     ]
    }
   ],
   "source": [
    "while numero > 0:\n",
    "    print(numero)\n",
    "    numero -= 1"
   ]
  },
  {
   "cell_type": "code",
   "execution_count": 10,
   "metadata": {},
   "outputs": [
    {
     "name": "stdout",
     "output_type": "stream",
     "text": [
      "yellow\n",
      "blue\n",
      "green\n",
      "red\n"
     ]
    }
   ],
   "source": [
    "colors = [\"red\", \"green\", \"blue\", \"yellow\"]\n",
    "while colors:\n",
    "    print(colors.pop())"
   ]
  },
  {
   "cell_type": "code",
   "execution_count": 11,
   "metadata": {},
   "outputs": [
    {
     "name": "stdout",
     "output_type": "stream",
     "text": [
      "red\n",
      "green\n",
      "blue\n"
     ]
    }
   ],
   "source": [
    "colors = [\"red\", \"green\", \"blue\", \"yellow\"]\n",
    "for color in colors:\n",
    "    if color == \"yellow\": break\n",
    "    print(color)\n",
    "else:\n",
    "    print(\"No more colors left\")"
   ]
  },
  {
   "cell_type": "code",
   "execution_count": 12,
   "metadata": {},
   "outputs": [
    {
     "name": "stdout",
     "output_type": "stream",
     "text": [
      "[9 0 1 3 3]\n",
      "9\n",
      "0\n",
      "1\n",
      "3\n",
      "3\n"
     ]
    }
   ],
   "source": [
    "import numpy as np\n",
    "x = np.random.randint(0, 10, 5)\n",
    "print(x)\n",
    "for i in range(len(x)):\n",
    "    print(x[i])"
   ]
  },
  {
   "cell_type": "code",
   "execution_count": 31,
   "metadata": {},
   "outputs": [
    {
     "name": "stdout",
     "output_type": "stream",
     "text": [
      "El color red esta a la posicio 33\n",
      "El color green esta a la posicio 34\n",
      "El color blue esta a la posicio 35\n",
      "El color yellow esta a la posicio 36\n"
     ]
    }
   ],
   "source": [
    "colors = [\"red\", \"green\", \"blue\", \"yellow\"]\n",
    "for index, color in enumerate(colors, index):\n",
    "    print(f\"El color {color} esta a la posicio {index}\")"
   ]
  },
  {
   "cell_type": "code",
   "execution_count": 1,
   "metadata": {},
   "outputs": [
    {
     "name": "stdout",
     "output_type": "stream",
     "text": [
      "Joan Perez ha tret un 5\n",
      "Anna Gomez ha tret un 6\n",
      "Maria Garcia ha tret un 7\n"
     ]
    }
   ],
   "source": [
    "noms = [\"Joan\", \"Anna\", \"Maria\"]\n",
    "cognoms = [\"Perez\", \"Gomez\", \"Garcia\"]\n",
    "nota = [5, 6, 7]\n",
    "for nom, cognom, nota in zip(noms, cognoms, nota):\n",
    "    print(f\"{nom} {cognom} ha tret un {nota}\")"
   ]
  },
  {
   "cell_type": "code",
   "execution_count": 6,
   "metadata": {},
   "outputs": [
    {
     "name": "stdout",
     "output_type": "stream",
     "text": [
      "['MARIA', 'PEREZ', 'GOMEZ', 'GARCIA']\n"
     ]
    }
   ],
   "source": [
    "xulos = []\n",
    "for nom in noms+cognoms:\n",
    "    if len(nom)>4:\n",
    "        xulos.append(nom.upper())\n",
    "print(xulos)"
   ]
  },
  {
   "cell_type": "code",
   "execution_count": 7,
   "metadata": {},
   "outputs": [
    {
     "data": {
      "text/plain": [
       "['MARIA', 'PEREZ', 'GOMEZ', 'GARCIA']"
      ]
     },
     "execution_count": 7,
     "metadata": {},
     "output_type": "execute_result"
    }
   ],
   "source": [
    "#Entra a exàmen\n",
    "# Albino escriurà a la pissarra: expression for element in iterable if condition\n",
    "\n",
    "[name.upper() for name in noms+cognoms if len(name)>4]"
   ]
  },
  {
   "cell_type": "code",
   "execution_count": null,
   "metadata": {},
   "outputs": [
    {
     "data": {
      "text/plain": [
       "<generator object <genexpr> at 0x0000023F45B77680>"
      ]
     },
     "execution_count": 9,
     "metadata": {},
     "output_type": "execute_result"
    }
   ],
   "source": [
    "(name.upper() for name in noms+cognoms if len(name)>4)\n",
    "#crea un generador, per passar de item a item hem de fer servir next()"
   ]
  },
  {
   "cell_type": "code",
   "execution_count": 13,
   "metadata": {},
   "outputs": [
    {
     "name": "stdout",
     "output_type": "stream",
     "text": [
      "Help on function nomdefuncio in module __main__:\n",
      "\n",
      "nomdefuncio(parametres)\n",
      "    qualquier tonteria\n",
      "\n"
     ]
    }
   ],
   "source": [
    "def nomdefuncio(parametres):\n",
    "    \"\"\" \n",
    "    qualquier tonteria\n",
    "    \"\"\"\n",
    "\n",
    "help(nomdefuncio)"
   ]
  },
  {
   "cell_type": "code",
   "execution_count": 14,
   "metadata": {},
   "outputs": [
    {
     "data": {
      "text/plain": [
       "5"
      ]
     },
     "execution_count": 14,
     "metadata": {},
     "output_type": "execute_result"
    }
   ],
   "source": [
    "def divisibleindivisible(a, b):\n",
    "    if a % b == 0:\n",
    "        return a//b\n",
    "\n",
    "divisibleindivisible(10, 2)"
   ]
  },
  {
   "cell_type": "code",
   "execution_count": 17,
   "metadata": {},
   "outputs": [
    {
     "data": {
      "text/plain": [
       "(3, 1)"
      ]
     },
     "execution_count": 17,
     "metadata": {},
     "output_type": "execute_result"
    }
   ],
   "source": [
    "def quocient_modul(a, b):\n",
    "    return a//b, a%b\n",
    "\n",
    "quocient_modul(10, 3)"
   ]
  },
  {
   "cell_type": "code",
   "execution_count": null,
   "metadata": {},
   "outputs": [],
   "source": [
    "#importem un modul creat per nosaltres\n",
    "import divisions as div\n",
    "div.divisible_si_divsible(10, 2)\n",
    "\n",
    "%run divisions.py"
   ]
  },
  {
   "cell_type": "code",
   "execution_count": null,
   "metadata": {},
   "outputs": [],
   "source": [
    "#Constants\n",
    "DEFINE pi = 3.1416"
   ]
  }
 ],
 "metadata": {
  "colab": {
   "authorship_tag": "ABX9TyOcwuL0VCXrPOxse3SVbr7b",
   "provenance": []
  },
  "kernelspec": {
   "display_name": "Python 3",
   "name": "python3"
  },
  "language_info": {
   "codemirror_mode": {
    "name": "ipython",
    "version": 3
   },
   "file_extension": ".py",
   "mimetype": "text/x-python",
   "name": "python",
   "nbconvert_exporter": "python",
   "pygments_lexer": "ipython3",
   "version": "3.11.9"
  }
 },
 "nbformat": 4,
 "nbformat_minor": 0
}
